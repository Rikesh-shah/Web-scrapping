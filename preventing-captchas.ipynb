{
 "cells": [
  {
   "cell_type": "code",
   "execution_count": 7,
   "id": "eff37410",
   "metadata": {},
   "outputs": [],
   "source": [
    "import cv2\n",
    "import time\n",
    "import pytesseract\n",
    "\n",
    "import numpy as np\n",
    "\n",
    "from PIL import Image\n",
    "from selenium import webdriver\n",
    "from selenium.webdriver.common.by import By\n",
    "from selenium.webdriver.common.keys import Keys\n"
   ]
  },
  {
   "cell_type": "markdown",
   "id": "4497dc8e",
   "metadata": {},
   "source": [
    "# Using the input() function"
   ]
  },
  {
   "cell_type": "code",
   "execution_count": 6,
   "id": "4cd7e83e",
   "metadata": {},
   "outputs": [
    {
     "name": "stdout",
     "output_type": "stream",
     "text": [
      "\n",
      "Captcha handled! Write rest of the script..\n"
     ]
    }
   ],
   "source": [
    "driver = webdriver.Chrome()\n",
    "driver.maximize_window()\n",
    "\n",
    "url = \"https://www.hackthissite.org/user/login\"\n",
    "driver.get(url)\n",
    "time.sleep(2)\n",
    "\n",
    "username_field = driver.find_element(By.ID, \"login_username\")\n",
    "password_field = driver.find_element(By.ID, \"login_password\")\n",
    "login_button = driver.find_element(By.XPATH, \"/html[1]/body[1]/table[1]/tbody[1]/tr[2]/td[1]/table[1]/tbody[1]/tr[1]/td[2]/form[1]/table[1]/tbody[1]/tr[4]/td[1]/input[1]\")\n",
    "\n",
    "username_field.send_keys('hero')\n",
    "password_field.send_keys(\"@#123qwe\")\n",
    "login_button.click()\n",
    "\n",
    "captcha_xpath = '/html/body/table/tbody/tr[2]/td/table/tbody/tr/td[2]/form/table/tbody/tr[5]/td/img'\n",
    "captcha_element = driver.find_element(By.XPATH, captcha_xpath)\n",
    "if captcha_element:\n",
    "\tx = input('This will halt the script.. solve your Captcha..')\n",
    "\t\n",
    "print('\\nCaptcha handled! Write rest of the script..')\n",
    "time.sleep(1)\n",
    "driver.quit()"
   ]
  },
  {
   "cell_type": "markdown",
   "id": "4be451af",
   "metadata": {},
   "source": [
    "# Using OpenCV, PIL, pytesseract and Numpy"
   ]
  },
  {
   "cell_type": "code",
   "execution_count": 8,
   "id": "e0a9a0f4",
   "metadata": {},
   "outputs": [],
   "source": [
    "pytesseract.pytesseract.tesseract_cmd = r\"C:\\\\Program Files\\\\Tesseract-OCR\""
   ]
  },
  {
   "cell_type": "code",
   "execution_count": 11,
   "id": "d93a6f82",
   "metadata": {},
   "outputs": [
    {
     "name": "stdout",
     "output_type": "stream",
     "text": [
      "Location : {'x': 616, 'y': 389}\n",
      "Size : {'height': 100, 'width': 450}\n",
      "Unable to locate Captcha: [WinError 5] Access is denied\n"
     ]
    }
   ],
   "source": [
    "driver = webdriver.Chrome()\n",
    "driver.maximize_window()\n",
    "\n",
    "url = 'https://www.hackthissite.org/user/login'\n",
    "driver.get(url)\n",
    "time.sleep(2)\n",
    "\n",
    "username_field = driver.find_element(By.ID, 'login_username')\n",
    "password_field = driver.find_element(By.ID, 'login_password')\n",
    "login_button = driver.find_element(By.XPATH, '/html/body/table/tbody/tr[2]/td/table/tbody/tr/td[2]/form/table/tbody/tr[4]/td/input')\n",
    "\n",
    "username_field.send_keys('abc')\n",
    "password_field.send_keys('1234')\n",
    "login_button.click()\n",
    "time.sleep(5)\n",
    "\n",
    "try:\n",
    "    captcha_xpath = '/html/body/table/tbody/tr[2]/td/table/tbody/tr/td[2]/form/table/tbody/tr[5]/td/img'\n",
    "    captcha_image = driver.find_element(By.XPATH, captcha_xpath)\n",
    "    driver.save_screenshot('webpage.png')\n",
    "\n",
    "    location = captcha_image.location\n",
    "    size = captcha_image.size\n",
    "    print(f\"Location : {location}\")\n",
    "    print(f\"Size : {size}\")\n",
    "    device_pixel_ratio = driver.execute_script(\"return window.devicePixelRatio;\")\n",
    "    x = int(location['x'] * device_pixel_ratio)\n",
    "    y = int(location['y'] * device_pixel_ratio)\n",
    "    w = int(size['width'] * device_pixel_ratio)\n",
    "    h = int(size['height'] * device_pixel_ratio)\n",
    "\n",
    "    img = Image.open('webpage.png')\n",
    "    captcha_image = img.crop((x, y, x+w, y+h))\n",
    "    captcha_image.save(\"captcha.png\")\n",
    "\n",
    "    captcha_cv = np.array(captcha_image)\n",
    "    captcha_cv = cv2.cvtColor(captcha_cv, cv2.COLOR_RGB2BGR)\n",
    "    gray = cv2.cvtColor(captcha_cv, cv2.COLOR_BGR2GRAY)\n",
    "    blurred = cv2.medianBlur(gray, 3)\n",
    "    _, thresh = cv2.threshold(blurred, 0, 255, cv2.THRESH_BINARY + cv2.THRESH_OTSU)\n",
    "    kernel = np.ones((2, 2), np.uint8)\n",
    "    thresh = cv2.dilate(thresh, kernel, iterations=1)\n",
    "    cv2.imwrite('captcha-processed.png', thresh)\n",
    "\n",
    "    captcha_text = pytesseract.image_to_string(Image.fromarray(thresh), config='--psm 8').strip()\n",
    "    print(f'Detected captcha text: {captcha_text}')\n",
    "\n",
    "    if captcha_text:\n",
    "        username_field = driver.find_element(By.ID, 'login_username')\n",
    "        password_field = driver.find_element(By.ID, 'login_password')\n",
    "        captcha_field = driver.find_element(By.XPATH, '/html[1]/body[1]/table[1]/tbody[1]/tr[2]/td[1]/table[1]/tbody[1]/tr[1]/td[2]/form[1]/table[1]/tbody[1]/tr[4]/td[2]/input[1]')\n",
    "        login_button = driver.find_element(By.XPATH, '/html/body/table/tbody/tr[2]/td/table/tbody/tr/td[2]/form/table/tbody/tr[4]/td/input')\n",
    "\n",
    "        username_field.clear()\n",
    "        password_field.clear()\n",
    "        captcha_field.clear()\n",
    "\n",
    "        username_field.send_keys('abc')\n",
    "        password_field.send_keys('1234')\n",
    "        captcha_field.send_keys(captcha_text)\n",
    "        login_button.click()\n",
    "    else:\n",
    "        print('Unable to read Captcha.')\n",
    "except Exception as e:\n",
    "    print('Unable to locate Captcha:', e)\n",
    "finally:\n",
    "    time.sleep(2)\n",
    "    driver.quit()"
   ]
  },
  {
   "cell_type": "code",
   "execution_count": null,
   "id": "7b7a05c3",
   "metadata": {},
   "outputs": [],
   "source": []
  }
 ],
 "metadata": {
  "kernelspec": {
   "display_name": "venv",
   "language": "python",
   "name": "python3"
  },
  "language_info": {
   "codemirror_mode": {
    "name": "ipython",
    "version": 3
   },
   "file_extension": ".py",
   "mimetype": "text/x-python",
   "name": "python",
   "nbconvert_exporter": "python",
   "pygments_lexer": "ipython3",
   "version": "3.11.7"
  }
 },
 "nbformat": 4,
 "nbformat_minor": 5
}
