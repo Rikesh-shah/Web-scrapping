{
 "cells": [
  {
   "cell_type": "code",
   "execution_count": 3,
   "id": "adabc6b9-5052-4c8e-be3e-6f2f3b24d98f",
   "metadata": {},
   "outputs": [],
   "source": [
    "import requests"
   ]
  },
  {
   "cell_type": "code",
   "execution_count": 2,
   "id": "9416ba4d",
   "metadata": {},
   "outputs": [
    {
     "name": "stdout",
     "output_type": "stream",
     "text": [
      "2.32.3\n"
     ]
    }
   ],
   "source": [
    "print(requests.__version__)"
   ]
  },
  {
   "cell_type": "markdown",
   "id": "2bf04b35",
   "metadata": {},
   "source": [
    "# GET"
   ]
  },
  {
   "cell_type": "code",
   "execution_count": 3,
   "id": "8f24297c",
   "metadata": {},
   "outputs": [],
   "source": [
    "uri = \"https://api.github.com\"\n",
    "response = requests.get(uri)"
   ]
  },
  {
   "cell_type": "code",
   "execution_count": 5,
   "id": "5a97997f",
   "metadata": {},
   "outputs": [
    {
     "data": {
      "text/plain": [
       "<Response [200]>"
      ]
     },
     "execution_count": 5,
     "metadata": {},
     "output_type": "execute_result"
    }
   ],
   "source": [
    "response"
   ]
  },
  {
   "cell_type": "code",
   "execution_count": 6,
   "id": "feeace4f",
   "metadata": {},
   "outputs": [
    {
     "data": {
      "text/plain": [
       "200"
      ]
     },
     "execution_count": 6,
     "metadata": {},
     "output_type": "execute_result"
    }
   ],
   "source": [
    "response.status_code"
   ]
  },
  {
   "cell_type": "code",
   "execution_count": 7,
   "id": "b1cf36fd",
   "metadata": {},
   "outputs": [
    {
     "data": {
      "text/plain": [
       "b'{\"current_user_url\":\"https://api.github.com/user\",\"current_user_authorizations_html_url\":\"https://github.com/settings/connections/applications{/client_id}\",\"authorizations_url\":\"https://api.github.com/authorizations\",\"code_search_url\":\"https://api.github.com/search/code?q={query}{&page,per_page,sort,order}\",\"commit_search_url\":\"https://api.github.com/search/commits?q={query}{&page,per_page,sort,order}\",\"emails_url\":\"https://api.github.com/user/emails\",\"emojis_url\":\"https://api.github.com/emojis\",\"events_url\":\"https://api.github.com/events\",\"feeds_url\":\"https://api.github.com/feeds\",\"followers_url\":\"https://api.github.com/user/followers\",\"following_url\":\"https://api.github.com/user/following{/target}\",\"gists_url\":\"https://api.github.com/gists{/gist_id}\",\"hub_url\":\"https://api.github.com/hub\",\"issue_search_url\":\"https://api.github.com/search/issues?q={query}{&page,per_page,sort,order}\",\"issues_url\":\"https://api.github.com/issues\",\"keys_url\":\"https://api.github.com/user/keys\",\"label_search_url\":\"https://api.github.com/search/labels?q={query}&repository_id={repository_id}{&page,per_page}\",\"notifications_url\":\"https://api.github.com/notifications\",\"organization_url\":\"https://api.github.com/orgs/{org}\",\"organization_repositories_url\":\"https://api.github.com/orgs/{org}/repos{?type,page,per_page,sort}\",\"organization_teams_url\":\"https://api.github.com/orgs/{org}/teams\",\"public_gists_url\":\"https://api.github.com/gists/public\",\"rate_limit_url\":\"https://api.github.com/rate_limit\",\"repository_url\":\"https://api.github.com/repos/{owner}/{repo}\",\"repository_search_url\":\"https://api.github.com/search/repositories?q={query}{&page,per_page,sort,order}\",\"current_user_repositories_url\":\"https://api.github.com/user/repos{?type,page,per_page,sort}\",\"starred_url\":\"https://api.github.com/user/starred{/owner}{/repo}\",\"starred_gists_url\":\"https://api.github.com/gists/starred\",\"topic_search_url\":\"https://api.github.com/search/topics?q={query}{&page,per_page}\",\"user_url\":\"https://api.github.com/users/{user}\",\"user_organizations_url\":\"https://api.github.com/user/orgs\",\"user_repositories_url\":\"https://api.github.com/users/{user}/repos{?type,page,per_page,sort}\",\"user_search_url\":\"https://api.github.com/search/users?q={query}{&page,per_page,sort,order}\"}'"
      ]
     },
     "execution_count": 7,
     "metadata": {},
     "output_type": "execute_result"
    }
   ],
   "source": [
    "response.content"
   ]
  },
  {
   "cell_type": "code",
   "execution_count": 8,
   "id": "08e7103a",
   "metadata": {},
   "outputs": [],
   "source": [
    "uri = \"https://api.github.com/search/repositories\""
   ]
  },
  {
   "cell_type": "code",
   "execution_count": 9,
   "id": "4db4b8ca",
   "metadata": {},
   "outputs": [],
   "source": [
    "params = {\"q\" : \"requests+language:python\"}"
   ]
  },
  {
   "cell_type": "code",
   "execution_count": 10,
   "id": "1e5a65c1",
   "metadata": {},
   "outputs": [],
   "source": [
    "response = requests.get(uri, params = params)"
   ]
  },
  {
   "cell_type": "code",
   "execution_count": 11,
   "id": "13e64dcb",
   "metadata": {},
   "outputs": [
    {
     "data": {
      "text/plain": [
       "200"
      ]
     },
     "execution_count": 11,
     "metadata": {},
     "output_type": "execute_result"
    }
   ],
   "source": [
    "response.status_code"
   ]
  },
  {
   "cell_type": "code",
   "execution_count": 12,
   "id": "ee8f8541",
   "metadata": {},
   "outputs": [
    {
     "data": {
      "text/plain": [
       "b'{\"total_count\":250,\"incomplete_results\":false,\"items\":[{\"id\":33210074,\"node_id\":\"MDEwOlJlcG9zaXRvcnkzMzIxMDA3NA==\",\"name\":\"secrules-language-evaluation\",\"full_name\":\"SpiderLabs/secrules-language-evaluation\",\"private\":false,\"owner\":{\"login\":\"SpiderLabs\",\"id\":508521,\"node_id\":\"MDEyOk9yZ2FuaXphdGlvbjUwODUyMQ==\",\"avatar_url\":\"https://avatars.githubusercontent.com/u/508521?v=4\",\"gravatar_id\":\"\",\"url\":\"https://api.github.com/users/SpiderLabs\",\"html_url\":\"https://github.com/SpiderLabs\",\"followers_url\":\"https://api.github.com/users/SpiderLabs/followers\",\"following_url\":\"https://api.github.com/users/SpiderLabs/following{/other_user}\",\"gists_url\":\"https://api.github.com/users/SpiderLabs/gists{/gist_id}\",\"starred_url\":\"https://api.github.com/users/SpiderLabs/starred{/owner}{/repo}\",\"subscriptions_url\":\"https://api.github.com/users/SpiderLabs/subscriptions\",\"organizations_url\":\"https://api.github.com/users/SpiderLabs/orgs\",\"repos_url\":\"https://api.github.com/users/SpiderLabs/repos\",\"events_url\":\"https://api.github.com/users/SpiderLabs/events{/privacy}\",\"received_events_url\":\"https://api.github.com/users/SpiderLabs/received_events\",\"type\":\"Organization\",\"user_view_type\":\"public\",\"site_admin\":false},\"html_url\":\"https://github.com/SpiderLabs/secrules-language-evaluation\",\"description\":\"Set of Python scripts to perform SecRules language evaluation on a given http request.\",\"fork\":false,\"url\":\"https://api.github.com/repos/SpiderLabs/secrules-language-evaluation\",\"forks_url\":\"https://api.github.com/repos/SpiderLabs/secrules-language-evaluation/forks\",\"keys_url\":\"https://api.github.com/repos/SpiderLabs/secrules-language-evaluation/keys{/key_id}\",\"collaborators_url\":\"https://api.github.com/repos/SpiderLabs/secrules-language-evaluation/collaborators{/collaborator}\",\"teams_url\":\"https://api.github.com/repos/SpiderLabs/secrules-language-evaluation/teams\",\"hooks_url\":\"https://api.github.com/repos/SpiderLabs/secrules-language-evaluation/hooks\",\"issue_events_url\":\"https://api.github.com/repo'"
      ]
     },
     "execution_count": 12,
     "metadata": {},
     "output_type": "execute_result"
    }
   ],
   "source": [
    "response.content[:2000]"
   ]
  },
  {
   "cell_type": "markdown",
   "id": "9a859e88",
   "metadata": {},
   "source": [
    "# POST"
   ]
  },
  {
   "cell_type": "code",
   "execution_count": 24,
   "id": "1a2817ac",
   "metadata": {},
   "outputs": [],
   "source": [
    "def get_data_format(rcvd_response):\n",
    "    json_response = rcvd_response.json()\n",
    "    data_format = json_response['headers']['Content-Type'].split(\"/\")[-1]\n",
    "    print(f\"Response data format : {data_format}\")"
   ]
  },
  {
   "cell_type": "code",
   "execution_count": 13,
   "id": "9ed15d49",
   "metadata": {},
   "outputs": [],
   "source": [
    "uri = \"https://httpbin.org/post\""
   ]
  },
  {
   "cell_type": "code",
   "execution_count": 14,
   "id": "8d7ff4a0",
   "metadata": {},
   "outputs": [],
   "source": [
    "data = {\n",
    "\t\"username\": \"bruce\",\n",
    "\t\"password\": \"bruce123\"\n",
    "}"
   ]
  },
  {
   "cell_type": "code",
   "execution_count": 15,
   "id": "88f4529a",
   "metadata": {},
   "outputs": [],
   "source": [
    "response = requests.post(uri, data = data)"
   ]
  },
  {
   "cell_type": "code",
   "execution_count": 16,
   "id": "cf2f8883",
   "metadata": {},
   "outputs": [
    {
     "data": {
      "text/plain": [
       "200"
      ]
     },
     "execution_count": 16,
     "metadata": {},
     "output_type": "execute_result"
    }
   ],
   "source": [
    "response.status_code"
   ]
  },
  {
   "cell_type": "code",
   "execution_count": 18,
   "id": "bfb15ab2",
   "metadata": {},
   "outputs": [
    {
     "data": {
      "text/plain": [
       "{'args': {},\n",
       " 'data': '',\n",
       " 'files': {},\n",
       " 'form': {'password': 'bruce123', 'username': 'bruce'},\n",
       " 'headers': {'Accept': '*/*',\n",
       "  'Accept-Encoding': 'gzip, deflate',\n",
       "  'Content-Length': '32',\n",
       "  'Content-Type': 'application/x-www-form-urlencoded',\n",
       "  'Host': 'httpbin.org',\n",
       "  'User-Agent': 'python-requests/2.32.3',\n",
       "  'X-Amzn-Trace-Id': 'Root=1-67e95094-31b3a6cc2f6631cd3094668b'},\n",
       " 'json': None,\n",
       " 'origin': '27.34.66.28',\n",
       " 'url': 'https://httpbin.org/post'}"
      ]
     },
     "execution_count": 18,
     "metadata": {},
     "output_type": "execute_result"
    }
   ],
   "source": [
    "response.json()"
   ]
  },
  {
   "cell_type": "code",
   "execution_count": 23,
   "id": "a23aa370",
   "metadata": {},
   "outputs": [
    {
     "data": {
      "text/plain": [
       "'x-www-form-urlencoded'"
      ]
     },
     "execution_count": 23,
     "metadata": {},
     "output_type": "execute_result"
    }
   ],
   "source": [
    "response.json()['headers']['Content-Type'].split('/')[-1]"
   ]
  },
  {
   "cell_type": "code",
   "execution_count": 25,
   "id": "dd83147d",
   "metadata": {},
   "outputs": [
    {
     "name": "stdout",
     "output_type": "stream",
     "text": [
      "Response data format : x-www-form-urlencoded\n"
     ]
    }
   ],
   "source": [
    "get_data_format(response)"
   ]
  },
  {
   "cell_type": "code",
   "execution_count": 26,
   "id": "ed756497",
   "metadata": {},
   "outputs": [
    {
     "data": {
      "text/plain": [
       "'https://httpbin.org/post'"
      ]
     },
     "execution_count": 26,
     "metadata": {},
     "output_type": "execute_result"
    }
   ],
   "source": [
    "uri"
   ]
  },
  {
   "cell_type": "code",
   "execution_count": 27,
   "id": "5114d622",
   "metadata": {},
   "outputs": [
    {
     "data": {
      "text/plain": [
       "{'username': 'bruce', 'password': 'bruce123'}"
      ]
     },
     "execution_count": 27,
     "metadata": {},
     "output_type": "execute_result"
    }
   ],
   "source": [
    "data"
   ]
  },
  {
   "cell_type": "code",
   "execution_count": 28,
   "id": "9b69449d",
   "metadata": {},
   "outputs": [],
   "source": [
    "response2 = requests.post(uri, json = data)"
   ]
  },
  {
   "cell_type": "code",
   "execution_count": 29,
   "id": "27b6f24d",
   "metadata": {},
   "outputs": [
    {
     "data": {
      "text/plain": [
       "200"
      ]
     },
     "execution_count": 29,
     "metadata": {},
     "output_type": "execute_result"
    }
   ],
   "source": [
    "response2.status_code"
   ]
  },
  {
   "cell_type": "code",
   "execution_count": 30,
   "id": "4b1277ec",
   "metadata": {},
   "outputs": [
    {
     "data": {
      "text/plain": [
       "{'args': {},\n",
       " 'data': '{\"username\": \"bruce\", \"password\": \"bruce123\"}',\n",
       " 'files': {},\n",
       " 'form': {},\n",
       " 'headers': {'Accept': '*/*',\n",
       "  'Accept-Encoding': 'gzip, deflate',\n",
       "  'Content-Length': '45',\n",
       "  'Content-Type': 'application/json',\n",
       "  'Host': 'httpbin.org',\n",
       "  'User-Agent': 'python-requests/2.32.3',\n",
       "  'X-Amzn-Trace-Id': 'Root=1-67e952d4-5d6ea9b12484d40e1310fc1f'},\n",
       " 'json': {'password': 'bruce123', 'username': 'bruce'},\n",
       " 'origin': '27.34.66.28',\n",
       " 'url': 'https://httpbin.org/post'}"
      ]
     },
     "execution_count": 30,
     "metadata": {},
     "output_type": "execute_result"
    }
   ],
   "source": [
    "response2.json()"
   ]
  },
  {
   "cell_type": "code",
   "execution_count": 31,
   "id": "7d3554d2",
   "metadata": {},
   "outputs": [
    {
     "name": "stdout",
     "output_type": "stream",
     "text": [
      "Response data format : json\n"
     ]
    }
   ],
   "source": [
    "get_data_format(response2)"
   ]
  },
  {
   "cell_type": "markdown",
   "id": "2bb47d77",
   "metadata": {},
   "source": [
    "# PUT"
   ]
  },
  {
   "cell_type": "code",
   "execution_count": 32,
   "id": "cb1570ae",
   "metadata": {},
   "outputs": [],
   "source": [
    "uri = \"https://httpbin.org/put\""
   ]
  },
  {
   "cell_type": "code",
   "execution_count": 33,
   "id": "97c4dbc8",
   "metadata": {},
   "outputs": [],
   "source": [
    "data = {\n",
    "    \"param1\" : \"value1\"\n",
    "}"
   ]
  },
  {
   "cell_type": "code",
   "execution_count": 34,
   "id": "e64ee300",
   "metadata": {},
   "outputs": [],
   "source": [
    "response = requests.put(uri, data = data)"
   ]
  },
  {
   "cell_type": "code",
   "execution_count": 35,
   "id": "619ab0c6",
   "metadata": {},
   "outputs": [
    {
     "data": {
      "text/plain": [
       "200"
      ]
     },
     "execution_count": 35,
     "metadata": {},
     "output_type": "execute_result"
    }
   ],
   "source": [
    "response.status_code"
   ]
  },
  {
   "cell_type": "code",
   "execution_count": 36,
   "id": "9c71106c",
   "metadata": {},
   "outputs": [
    {
     "data": {
      "text/plain": [
       "{'args': {},\n",
       " 'data': '',\n",
       " 'files': {},\n",
       " 'form': {'param1': 'value1'},\n",
       " 'headers': {'Accept': '*/*',\n",
       "  'Accept-Encoding': 'gzip, deflate',\n",
       "  'Content-Length': '13',\n",
       "  'Content-Type': 'application/x-www-form-urlencoded',\n",
       "  'Host': 'httpbin.org',\n",
       "  'User-Agent': 'python-requests/2.32.3',\n",
       "  'X-Amzn-Trace-Id': 'Root=1-67e9697d-6d465932614f6baa4b34055a'},\n",
       " 'json': None,\n",
       " 'origin': '27.34.66.118',\n",
       " 'url': 'https://httpbin.org/put'}"
      ]
     },
     "execution_count": 36,
     "metadata": {},
     "output_type": "execute_result"
    }
   ],
   "source": [
    "response.json()"
   ]
  },
  {
   "cell_type": "markdown",
   "id": "ef74bc3c",
   "metadata": {},
   "source": [
    "# DELETE"
   ]
  },
  {
   "cell_type": "code",
   "execution_count": 37,
   "id": "47cabe36",
   "metadata": {},
   "outputs": [],
   "source": [
    "uri = \"https://httpbin.org/delete\""
   ]
  },
  {
   "cell_type": "code",
   "execution_count": 38,
   "id": "12d35edc",
   "metadata": {},
   "outputs": [],
   "source": [
    "response = requests.delete(uri)"
   ]
  },
  {
   "cell_type": "code",
   "execution_count": 39,
   "id": "9c2a506b",
   "metadata": {},
   "outputs": [
    {
     "data": {
      "text/plain": [
       "200"
      ]
     },
     "execution_count": 39,
     "metadata": {},
     "output_type": "execute_result"
    }
   ],
   "source": [
    "response.status_code"
   ]
  },
  {
   "cell_type": "code",
   "execution_count": 40,
   "id": "d1bb25e5",
   "metadata": {},
   "outputs": [
    {
     "data": {
      "text/plain": [
       "{'args': {},\n",
       " 'data': '',\n",
       " 'files': {},\n",
       " 'form': {},\n",
       " 'headers': {'Accept': '*/*',\n",
       "  'Accept-Encoding': 'gzip, deflate',\n",
       "  'Content-Length': '0',\n",
       "  'Host': 'httpbin.org',\n",
       "  'User-Agent': 'python-requests/2.32.3',\n",
       "  'X-Amzn-Trace-Id': 'Root=1-67e969c3-2ccac6a46d069e3940551775'},\n",
       " 'json': None,\n",
       " 'origin': '27.34.66.118',\n",
       " 'url': 'https://httpbin.org/delete'}"
      ]
     },
     "execution_count": 40,
     "metadata": {},
     "output_type": "execute_result"
    }
   ],
   "source": [
    "response.json()"
   ]
  },
  {
   "cell_type": "markdown",
   "id": "e2a54607",
   "metadata": {},
   "source": [
    "# HEADERS"
   ]
  },
  {
   "cell_type": "code",
   "execution_count": 41,
   "id": "f9bab3e8",
   "metadata": {},
   "outputs": [],
   "source": [
    "headers = {\n",
    "\t'User-Agent': 'Mozilla/5.0 (Windows NT 10.0; Win64; x64)',\n",
    "    'Accept': 'application/json',\n",
    "\t'Authorization': 'Bearer YOUR_ACCESS_TOKEN',\n",
    "\t'Content-Type': 'application/json',\n",
    "\t'X-Custom-Header': 'CustomValue',\n",
    "}"
   ]
  },
  {
   "cell_type": "code",
   "execution_count": 42,
   "id": "f822b3d5",
   "metadata": {},
   "outputs": [],
   "source": [
    "uri = \"https://httpbin.org/headers\""
   ]
  },
  {
   "cell_type": "code",
   "execution_count": 43,
   "id": "3353db3e",
   "metadata": {},
   "outputs": [],
   "source": [
    "response = requests.get(uri, headers = headers)"
   ]
  },
  {
   "cell_type": "code",
   "execution_count": 44,
   "id": "b2b673af",
   "metadata": {},
   "outputs": [
    {
     "data": {
      "text/plain": [
       "200"
      ]
     },
     "execution_count": 44,
     "metadata": {},
     "output_type": "execute_result"
    }
   ],
   "source": [
    "response.status_code"
   ]
  },
  {
   "cell_type": "code",
   "execution_count": 45,
   "id": "6c73e904",
   "metadata": {},
   "outputs": [
    {
     "data": {
      "text/plain": [
       "{'Date': 'Sun, 30 Mar 2025 16:18:30 GMT', 'Content-Type': 'application/json', 'Content-Length': '387', 'Connection': 'keep-alive', 'Server': 'gunicorn/19.9.0', 'Access-Control-Allow-Origin': '*', 'Access-Control-Allow-Credentials': 'true'}"
      ]
     },
     "execution_count": 45,
     "metadata": {},
     "output_type": "execute_result"
    }
   ],
   "source": [
    "response.headers"
   ]
  },
  {
   "cell_type": "code",
   "execution_count": 46,
   "id": "49503d37",
   "metadata": {},
   "outputs": [
    {
     "data": {
      "text/plain": [
       "requests.structures.CaseInsensitiveDict"
      ]
     },
     "execution_count": 46,
     "metadata": {},
     "output_type": "execute_result"
    }
   ],
   "source": [
    "type(response.headers)"
   ]
  },
  {
   "cell_type": "code",
   "execution_count": 47,
   "id": "98735182",
   "metadata": {},
   "outputs": [
    {
     "data": {
      "text/plain": [
       "{'Date': 'Sun, 30 Mar 2025 16:18:30 GMT',\n",
       " 'Content-Type': 'application/json',\n",
       " 'Content-Length': '387',\n",
       " 'Connection': 'keep-alive',\n",
       " 'Server': 'gunicorn/19.9.0',\n",
       " 'Access-Control-Allow-Origin': '*',\n",
       " 'Access-Control-Allow-Credentials': 'true'}"
      ]
     },
     "execution_count": 47,
     "metadata": {},
     "output_type": "execute_result"
    }
   ],
   "source": [
    "dict(response.headers)"
   ]
  },
  {
   "cell_type": "code",
   "execution_count": 48,
   "id": "445a2c61",
   "metadata": {},
   "outputs": [
    {
     "data": {
      "text/plain": [
       "{'headers': {'Accept': 'application/json',\n",
       "  'Accept-Encoding': 'gzip, deflate',\n",
       "  'Authorization': 'Bearer YOUR_ACCESS_TOKEN',\n",
       "  'Content-Type': 'application/json',\n",
       "  'Host': 'httpbin.org',\n",
       "  'User-Agent': 'Mozilla/5.0 (Windows NT 10.0; Win64; x64)',\n",
       "  'X-Amzn-Trace-Id': 'Root=1-67e96ed6-5b75b4893cda9d02248c2763',\n",
       "  'X-Custom-Header': 'CustomValue'}}"
      ]
     },
     "execution_count": 48,
     "metadata": {},
     "output_type": "execute_result"
    }
   ],
   "source": [
    "response.json()"
   ]
  },
  {
   "cell_type": "code",
   "execution_count": 49,
   "id": "f65b6f73",
   "metadata": {},
   "outputs": [
    {
     "name": "stdout",
     "output_type": "stream",
     "text": [
      "Accept          : application/json\n",
      "Accept-Encoding : gzip, deflate\n",
      "Authorization   : Bearer YOUR_ACCESS_TOKEN\n",
      "Content-Type    : application/json\n",
      "Host            : httpbin.org\n",
      "User-Agent      : Mozilla/5.0 (Windows NT 10.0; Win64; x64)\n",
      "X-Amzn-Trace-Id : Root=1-67e96ed6-5b75b4893cda9d02248c2763\n",
      "X-Custom-Header : CustomValue\n"
     ]
    }
   ],
   "source": [
    "for header, value in response.json()['headers'].items():\n",
    "\tprint(f\"{header:<16}: {value}\")"
   ]
  },
  {
   "cell_type": "markdown",
   "id": "0192006b",
   "metadata": {},
   "source": [
    "# Response Object"
   ]
  },
  {
   "cell_type": "code",
   "execution_count": 1,
   "id": "db90d16d",
   "metadata": {},
   "outputs": [],
   "source": [
    "uri = \"https://api.github.com\""
   ]
  },
  {
   "cell_type": "code",
   "execution_count": 4,
   "id": "dcd5443e",
   "metadata": {},
   "outputs": [],
   "source": [
    "response = requests.get(uri)"
   ]
  },
  {
   "cell_type": "code",
   "execution_count": 5,
   "id": "58566d7a",
   "metadata": {},
   "outputs": [
    {
     "data": {
      "text/plain": [
       "<Response [200]>"
      ]
     },
     "execution_count": 5,
     "metadata": {},
     "output_type": "execute_result"
    }
   ],
   "source": [
    "response"
   ]
  },
  {
   "cell_type": "code",
   "execution_count": 6,
   "id": "0365c420",
   "metadata": {},
   "outputs": [
    {
     "data": {
      "text/plain": [
       "200"
      ]
     },
     "execution_count": 6,
     "metadata": {},
     "output_type": "execute_result"
    }
   ],
   "source": [
    "response.status_code"
   ]
  },
  {
   "cell_type": "code",
   "execution_count": 7,
   "id": "3157e409",
   "metadata": {},
   "outputs": [
    {
     "data": {
      "text/plain": [
       "int"
      ]
     },
     "execution_count": 7,
     "metadata": {},
     "output_type": "execute_result"
    }
   ],
   "source": [
    "type(response.status_code)"
   ]
  },
  {
   "cell_type": "code",
   "execution_count": 8,
   "id": "231eab07",
   "metadata": {},
   "outputs": [
    {
     "name": "stdout",
     "output_type": "stream",
     "text": [
      "Success!\n"
     ]
    }
   ],
   "source": [
    "if response.status_code == 200:\n",
    "    print(\"Success!\")\n",
    "else:\n",
    "    print(\"Error:\", response.status_code)"
   ]
  },
  {
   "cell_type": "code",
   "execution_count": 9,
   "id": "30c0ba77",
   "metadata": {},
   "outputs": [
    {
     "data": {
      "text/plain": [
       "'{\"current_user_url\":\"https://api.github.com/user\",\"current_user_authorizations_html_url\":\"https://github.com/settings/connections/applications{/client_id}\",\"authorizations_url\":\"https://api.github.com/authorizations\",\"code_search_url\":\"https://api.github.com/search/code?q={query}{&page,per_page,sort,order}\",\"commit_search_url\":\"https://api.github.com/search/commits?q={query}{&page,per_page,sort,order}\",\"emails_url\":\"https://api.github.com/user/emails\",\"emojis_url\":\"https://api.github.com/emojis\",\"events_url\":\"https://api.github.com/events\",\"feeds_url\":\"https://api.github.com/feeds\",\"followers_url\":\"https://api.github.com/user/followers\",\"following_url\":\"https://api.github.com/user/following{/target}\",\"gists_url\":\"https://api.github.com/gists{/gist_id}\",\"hub_url\":\"https://api.github.com/hub\",\"issue_search_url\":\"https://api.github.com/search/issues?q={query}{&page,per_page,sort,order}\",\"issues_url\":\"https://api.github.com/issues\",\"keys_url\":\"https://api.github.com/user/keys\",\"label_search_url\":\"https://api.github.com/search/labels?q={query}&repository_id={repository_id}{&page,per_page}\",\"notifications_url\":\"https://api.github.com/notifications\",\"organization_url\":\"https://api.github.com/orgs/{org}\",\"organization_repositories_url\":\"https://api.github.com/orgs/{org}/repos{?type,page,per_page,sort}\",\"organization_teams_url\":\"https://api.github.com/orgs/{org}/teams\",\"public_gists_url\":\"https://api.github.com/gists/public\",\"rate_limit_url\":\"https://api.github.com/rate_limit\",\"repository_url\":\"https://api.github.com/repos/{owner}/{repo}\",\"repository_search_url\":\"https://api.github.com/search/repositories?q={query}{&page,per_page,sort,order}\",\"current_user_repositories_url\":\"https://api.github.com/user/repos{?type,page,per_page,sort}\",\"starred_url\":\"https://api.github.com/user/starred{/owner}{/repo}\",\"starred_gists_url\":\"https://api.github.com/gists/starred\",\"topic_search_url\":\"https://api.github.com/search/topics?q={query}{&page,per_page}\",\"user_url\":\"https://api.github.com/users/{user}\",\"user_organizations_url\":\"https://api.github.com/user/orgs\",\"user_repositories_url\":\"https://api.github.com/users/{user}/repos{?type,page,per_page,sort}\",\"user_search_url\":\"https://api.github.com/search/users?q={query}{&page,per_page,sort,order}\"}'"
      ]
     },
     "execution_count": 9,
     "metadata": {},
     "output_type": "execute_result"
    }
   ],
   "source": [
    "response.text"
   ]
  },
  {
   "cell_type": "code",
   "execution_count": 10,
   "id": "8231e15c",
   "metadata": {},
   "outputs": [
    {
     "data": {
      "text/plain": [
       "str"
      ]
     },
     "execution_count": 10,
     "metadata": {},
     "output_type": "execute_result"
    }
   ],
   "source": [
    "type(response.text)"
   ]
  },
  {
   "cell_type": "code",
   "execution_count": 11,
   "id": "032103e4",
   "metadata": {},
   "outputs": [
    {
     "data": {
      "text/plain": [
       "'{\"current_user_url\":\"https://api.github.com/user\",\"current_user_authorizations_html_url\":\"https://github.com/settings/connections/applications{/client_id}\",\"authorizations_url\":\"https://api.github.com/authorizations\",\"code_search_url\":\"https://api.github.com/search/code?q={query}{&page,per_page,sort,order}\",\"commit_search_url\":\"https://api.github.com/search/commits?q={query}{&page,per_page,sort,order}\",\"emails_url\":\"https://api.github.com/user/emails\",\"emojis_url\":\"https://api.github.com/emojis\",\"events_url\":\"https://api.github.com/events\",\"feeds_url\":\"https://api.github.com/feeds\",\"followers_url\":\"https://api.github.com/user/followers\",\"following_url\":\"https://api.github.com/user/following{/target}\",\"gists_url\":\"https://api.github.com/gists{/gist_id}\",\"hub_url\":\"https://api.github.com/hub\",\"issue_search_url\":\"https://api.github.com/search/issues?q={query}{&page,per_page,sort,order}\",\"issues_url\":\"https://api.github.com/issues\",\"keys_url\":\"https://api.github.com/user/keys\",\"label_searc'"
      ]
     },
     "execution_count": 11,
     "metadata": {},
     "output_type": "execute_result"
    }
   ],
   "source": [
    "response.text[:1000]"
   ]
  },
  {
   "cell_type": "code",
   "execution_count": 12,
   "id": "cb86b61f",
   "metadata": {},
   "outputs": [
    {
     "data": {
      "text/plain": [
       "'{\"CURRENT_USER_URL\":\"HTTPS://API.GITHUB.COM/USER\",\"CURRENT_USER_AUTHORIZATIONS_HTML_URL\":\"HTTPS://GITHUB.COM/SETTINGS/CONNECTIONS/APPLICATIONS{/CLIENT_ID}\",\"AUTHORIZATIONS_URL\":\"HTTPS://API.GITHUB.COM/AUTHORIZATIONS\",\"CODE_SEARCH_URL\":\"HTTPS://API.GITHUB.COM/SEARCH/CODE?Q={QUERY}{&PAGE,PER_PAGE,SORT,ORDER}\",\"COMMIT_SEARCH_URL\":\"HTTPS://API.GITHUB.COM/SEARCH/COMMITS?Q={QUERY}{&PAGE,PER_PAGE,SORT,ORDER}\",\"EMAILS_URL\":\"HTTPS://API.GITHUB.COM/USER/EMAILS\",\"EMOJIS_URL\":\"HTTPS://API.GITHUB.COM/EMOJIS\",\"EVENTS_URL\":\"HTTPS://API.GITHUB.COM/EVENTS\",\"FEEDS_URL\":\"HTTPS://API.GITHUB.COM/FEEDS\",\"FOLLOWERS_URL\":\"HTTPS://API.GITHUB.COM/USER/FOLLOWERS\",\"FOLLOWING_URL\":\"HTTPS://API.GITHUB.COM/USER/FOLLOWING{/TARGET}\",\"GISTS_URL\":\"HTTPS://API.GITHUB.COM/GISTS{/GIST_ID}\",\"HUB_URL\":\"HTTPS://API.GITHUB.COM/HUB\",\"ISSUE_SEARCH_URL\":\"HTTPS://API.GITHUB.COM/SEARCH/ISSUES?Q={QUERY}{&PAGE,PER_PAGE,SORT,ORDER}\",\"ISSUES_URL\":\"HTTPS://API.GITHUB.COM/ISSUES\",\"KEYS_URL\":\"HTTPS://API.GITHUB.COM/USER/KEYS\",\"LABEL_SEARCH_URL\":\"HTTPS://API.GITHUB.COM/SEARCH/LABELS?Q={QUERY}&REPOSITORY_ID={REPOSITORY_ID}{&PAGE,PER_PAGE}\",\"NOTIFICATIONS_URL\":\"HTTPS://API.GITHUB.COM/NOTIFICATIONS\",\"ORGANIZATION_URL\":\"HTTPS://API.GITHUB.COM/ORGS/{ORG}\",\"ORGANIZATION_REPOSITORIES_URL\":\"HTTPS://API.GITHUB.COM/ORGS/{ORG}/REPOS{?TYPE,PAGE,PER_PAGE,SORT}\",\"ORGANIZATION_TEAMS_URL\":\"HTTPS://API.GITHUB.COM/ORGS/{ORG}/TEAMS\",\"PUBLIC_GISTS_URL\":\"HTTPS://API.GITHUB.COM/GISTS/PUBLIC\",\"RATE_LIMIT_URL\":\"HTTPS://API.GITHUB.COM/RATE_LIMIT\",\"REPOSITORY_URL\":\"HTTPS://API.GITHUB.COM/REPOS/{OWNER}/{REPO}\",\"REPOSITORY_SEARCH_URL\":\"HTTPS://API.GITHUB.COM/SEARCH/REPOSITORIES?Q={QUERY}{&PAGE,PER_PAGE,SORT,ORDER}\",\"CURRENT_USER_REPOSITORIES_URL\":\"HTTPS://API.GITHUB.COM/USER/REPOS{?TYPE,PAGE,PER_PAGE,SORT}\",\"STARRED_URL\":\"HTTPS://API.GITHUB.COM/USER/STARRED{/OWNER}{/REPO}\",\"STARRED_GISTS_URL\":\"HTTPS://API.GITHUB.COM/GISTS/STARRED\",\"TOPIC_SEARCH_URL\":\"HTTPS://API.GITHUB.COM/SEARCH/TOPICS?Q={QUERY}{&PAGE,PER_PAGE}\",\"USER_URL\":\"HTTPS://API.GITHUB.COM/USERS/{USER}\",\"USER_ORGANIZATIONS_URL\":\"HTTPS://API.GITHUB.COM/USER/ORGS\",\"USER_REPOSITORIES_URL\":\"HTTPS://API.GITHUB.COM/USERS/{USER}/REPOS{?TYPE,PAGE,PER_PAGE,SORT}\",\"USER_SEARCH_URL\":\"HTTPS://API.GITHUB.COM/SEARCH/USERS?Q={QUERY}{&PAGE,PER_PAGE,SORT,ORDER}\"}'"
      ]
     },
     "execution_count": 12,
     "metadata": {},
     "output_type": "execute_result"
    }
   ],
   "source": [
    "response.text.upper()"
   ]
  },
  {
   "cell_type": "code",
   "execution_count": 13,
   "id": "54284da4",
   "metadata": {},
   "outputs": [
    {
     "data": {
      "text/plain": [
       "b'{\"current_user_url\":\"https://api.github.com/user\",\"current_user_authorizations_html_url\":\"https://github.com/settings/connections/applications{/client_id}\",\"authorizations_url\":\"https://api.github.com/authorizations\",\"code_search_url\":\"https://api.github.com/search/code?q={query}{&page,per_page,sort,order}\",\"commit_search_url\":\"https://api.github.com/search/commits?q={query}{&page,per_page,sort,order}\",\"emails_url\":\"https://api.github.com/user/emails\",\"emojis_url\":\"https://api.github.com/emojis\",\"events_url\":\"https://api.github.com/events\",\"feeds_url\":\"https://api.github.com/feeds\",\"followers_url\":\"https://api.github.com/user/followers\",\"following_url\":\"https://api.github.com/user/following{/target}\",\"gists_url\":\"https://api.github.com/gists{/gist_id}\",\"hub_url\":\"https://api.github.com/hub\",\"issue_search_url\":\"https://api.github.com/search/issues?q={query}{&page,per_page,sort,order}\",\"issues_url\":\"https://api.github.com/issues\",\"keys_url\":\"https://api.github.com/user/keys\",\"label_search_url\":\"https://api.github.com/search/labels?q={query}&repository_id={repository_id}{&page,per_page}\",\"notifications_url\":\"https://api.github.com/notifications\",\"organization_url\":\"https://api.github.com/orgs/{org}\",\"organization_repositories_url\":\"https://api.github.com/orgs/{org}/repos{?type,page,per_page,sort}\",\"organization_teams_url\":\"https://api.github.com/orgs/{org}/teams\",\"public_gists_url\":\"https://api.github.com/gists/public\",\"rate_limit_url\":\"https://api.github.com/rate_limit\",\"repository_url\":\"https://api.github.com/repos/{owner}/{repo}\",\"repository_search_url\":\"https://api.github.com/search/repositories?q={query}{&page,per_page,sort,order}\",\"current_user_repositories_url\":\"https://api.github.com/user/repos{?type,page,per_page,sort}\",\"starred_url\":\"https://api.github.com/user/starred{/owner}{/repo}\",\"starred_gists_url\":\"https://api.github.com/gists/starred\",\"topic_search_url\":\"https://api.github.com/search/topics?q={query}{&page,per_page}\",\"user_url\":\"https://api.github.com/users/{user}\",\"user_organizations_url\":\"https://api.github.com/user/orgs\",\"user_repositories_url\":\"https://api.github.com/users/{user}/repos{?type,page,per_page,sort}\",\"user_search_url\":\"https://api.github.com/search/users?q={query}{&page,per_page,sort,order}\"}'"
      ]
     },
     "execution_count": 13,
     "metadata": {},
     "output_type": "execute_result"
    }
   ],
   "source": [
    "response.content"
   ]
  },
  {
   "cell_type": "code",
   "execution_count": 14,
   "id": "2ae0d289",
   "metadata": {},
   "outputs": [
    {
     "data": {
      "text/plain": [
       "bytes"
      ]
     },
     "execution_count": 14,
     "metadata": {},
     "output_type": "execute_result"
    }
   ],
   "source": [
    "type(response.content)"
   ]
  },
  {
   "cell_type": "code",
   "execution_count": 15,
   "id": "371edd62",
   "metadata": {},
   "outputs": [
    {
     "data": {
      "text/plain": [
       "{'Date': 'Mon, 31 Mar 2025 16:36:47 GMT', 'Content-Type': 'application/json; charset=utf-8', 'Cache-Control': 'public, max-age=60, s-maxage=60', 'Vary': 'Accept,Accept-Encoding, Accept, X-Requested-With', 'ETag': 'W/\"4f825cc84e1c733059d46e76e6df9db557ae5254f9625dfe8e1b09499c449438\"', 'X-GitHub-Media-Type': 'github.v3; format=json', 'x-github-api-version-selected': '2022-11-28', 'Access-Control-Expose-Headers': 'ETag, Link, Location, Retry-After, X-GitHub-OTP, X-RateLimit-Limit, X-RateLimit-Remaining, X-RateLimit-Used, X-RateLimit-Resource, X-RateLimit-Reset, X-OAuth-Scopes, X-Accepted-OAuth-Scopes, X-Poll-Interval, X-GitHub-Media-Type, X-GitHub-SSO, X-GitHub-Request-Id, Deprecation, Sunset', 'Access-Control-Allow-Origin': '*', 'Strict-Transport-Security': 'max-age=31536000; includeSubdomains; preload', 'X-Frame-Options': 'deny', 'X-Content-Type-Options': 'nosniff', 'X-XSS-Protection': '0', 'Referrer-Policy': 'origin-when-cross-origin, strict-origin-when-cross-origin', 'Content-Security-Policy': \"default-src 'none'\", 'Content-Encoding': 'gzip', 'Server': 'github.com', 'Accept-Ranges': 'bytes', 'X-RateLimit-Limit': '60', 'X-RateLimit-Remaining': '59', 'X-RateLimit-Reset': '1743442606', 'X-RateLimit-Resource': 'core', 'X-RateLimit-Used': '1', 'Content-Length': '510', 'X-GitHub-Request-Id': '07F8:15D0B2:85CF5:A6BD7:67EAC49E'}"
      ]
     },
     "execution_count": 15,
     "metadata": {},
     "output_type": "execute_result"
    }
   ],
   "source": [
    "response.headers"
   ]
  },
  {
   "cell_type": "code",
   "execution_count": 16,
   "id": "56463827",
   "metadata": {},
   "outputs": [
    {
     "data": {
      "text/plain": [
       "{'Date': 'Mon, 31 Mar 2025 16:36:47 GMT',\n",
       " 'Content-Type': 'application/json; charset=utf-8',\n",
       " 'Cache-Control': 'public, max-age=60, s-maxage=60',\n",
       " 'Vary': 'Accept,Accept-Encoding, Accept, X-Requested-With',\n",
       " 'ETag': 'W/\"4f825cc84e1c733059d46e76e6df9db557ae5254f9625dfe8e1b09499c449438\"',\n",
       " 'X-GitHub-Media-Type': 'github.v3; format=json',\n",
       " 'x-github-api-version-selected': '2022-11-28',\n",
       " 'Access-Control-Expose-Headers': 'ETag, Link, Location, Retry-After, X-GitHub-OTP, X-RateLimit-Limit, X-RateLimit-Remaining, X-RateLimit-Used, X-RateLimit-Resource, X-RateLimit-Reset, X-OAuth-Scopes, X-Accepted-OAuth-Scopes, X-Poll-Interval, X-GitHub-Media-Type, X-GitHub-SSO, X-GitHub-Request-Id, Deprecation, Sunset',\n",
       " 'Access-Control-Allow-Origin': '*',\n",
       " 'Strict-Transport-Security': 'max-age=31536000; includeSubdomains; preload',\n",
       " 'X-Frame-Options': 'deny',\n",
       " 'X-Content-Type-Options': 'nosniff',\n",
       " 'X-XSS-Protection': '0',\n",
       " 'Referrer-Policy': 'origin-when-cross-origin, strict-origin-when-cross-origin',\n",
       " 'Content-Security-Policy': \"default-src 'none'\",\n",
       " 'Content-Encoding': 'gzip',\n",
       " 'Server': 'github.com',\n",
       " 'Accept-Ranges': 'bytes',\n",
       " 'X-RateLimit-Limit': '60',\n",
       " 'X-RateLimit-Remaining': '59',\n",
       " 'X-RateLimit-Reset': '1743442606',\n",
       " 'X-RateLimit-Resource': 'core',\n",
       " 'X-RateLimit-Used': '1',\n",
       " 'Content-Length': '510',\n",
       " 'X-GitHub-Request-Id': '07F8:15D0B2:85CF5:A6BD7:67EAC49E'}"
      ]
     },
     "execution_count": 16,
     "metadata": {},
     "output_type": "execute_result"
    }
   ],
   "source": [
    "dict(response.headers)"
   ]
  },
  {
   "cell_type": "code",
   "execution_count": 17,
   "id": "68a4de4b",
   "metadata": {},
   "outputs": [
    {
     "name": "stdout",
     "output_type": "stream",
     "text": [
      "Date                               : Mon, 31 Mar 2025 16:36:47 GMT\n",
      "Content-Type                       : application/json; charset=utf-8\n",
      "Cache-Control                      : public, max-age=60, s-maxage=60\n",
      "Vary                               : Accept,Accept-Encoding, Accept, X-Requested-With\n",
      "ETag                               : W/\"4f825cc84e1c733059d46e76e6df9db557ae5254f9625dfe8e1b09499c449438\"\n",
      "X-GitHub-Media-Type                : github.v3; format=json\n",
      "x-github-api-version-selected      : 2022-11-28\n",
      "Access-Control-Expose-Headers      : ETag, Link, Location, Retry-After, X-GitHub-OTP, X-RateLimit-Limit, X-RateLimit-Remaining, X-RateLimit-Used, X-RateLimit-Resource, X-RateLimit-Reset, X-OAuth-Scopes, X-Accepted-OAuth-Scopes, X-Poll-Interval, X-GitHub-Media-Type, X-GitHub-SSO, X-GitHub-Request-Id, Deprecation, Sunset\n",
      "Access-Control-Allow-Origin        : *\n",
      "Strict-Transport-Security          : max-age=31536000; includeSubdomains; preload\n",
      "X-Frame-Options                    : deny\n",
      "X-Content-Type-Options             : nosniff\n",
      "X-XSS-Protection                   : 0\n",
      "Referrer-Policy                    : origin-when-cross-origin, strict-origin-when-cross-origin\n",
      "Content-Security-Policy            : default-src 'none'\n",
      "Content-Encoding                   : gzip\n",
      "Server                             : github.com\n",
      "Accept-Ranges                      : bytes\n",
      "X-RateLimit-Limit                  : 60\n",
      "X-RateLimit-Remaining              : 59\n",
      "X-RateLimit-Reset                  : 1743442606\n",
      "X-RateLimit-Resource               : core\n",
      "X-RateLimit-Used                   : 1\n",
      "Content-Length                     : 510\n",
      "X-GitHub-Request-Id                : 07F8:15D0B2:85CF5:A6BD7:67EAC49E\n"
     ]
    }
   ],
   "source": [
    "for header, value in dict(response.headers).items():\n",
    "\tprint(f\"{header:<35}: {value}\")"
   ]
  },
  {
   "cell_type": "code",
   "execution_count": 18,
   "id": "9923ffb3",
   "metadata": {},
   "outputs": [
    {
     "data": {
      "text/plain": [
       "{'current_user_url': 'https://api.github.com/user',\n",
       " 'current_user_authorizations_html_url': 'https://github.com/settings/connections/applications{/client_id}',\n",
       " 'authorizations_url': 'https://api.github.com/authorizations',\n",
       " 'code_search_url': 'https://api.github.com/search/code?q={query}{&page,per_page,sort,order}',\n",
       " 'commit_search_url': 'https://api.github.com/search/commits?q={query}{&page,per_page,sort,order}',\n",
       " 'emails_url': 'https://api.github.com/user/emails',\n",
       " 'emojis_url': 'https://api.github.com/emojis',\n",
       " 'events_url': 'https://api.github.com/events',\n",
       " 'feeds_url': 'https://api.github.com/feeds',\n",
       " 'followers_url': 'https://api.github.com/user/followers',\n",
       " 'following_url': 'https://api.github.com/user/following{/target}',\n",
       " 'gists_url': 'https://api.github.com/gists{/gist_id}',\n",
       " 'hub_url': 'https://api.github.com/hub',\n",
       " 'issue_search_url': 'https://api.github.com/search/issues?q={query}{&page,per_page,sort,order}',\n",
       " 'issues_url': 'https://api.github.com/issues',\n",
       " 'keys_url': 'https://api.github.com/user/keys',\n",
       " 'label_search_url': 'https://api.github.com/search/labels?q={query}&repository_id={repository_id}{&page,per_page}',\n",
       " 'notifications_url': 'https://api.github.com/notifications',\n",
       " 'organization_url': 'https://api.github.com/orgs/{org}',\n",
       " 'organization_repositories_url': 'https://api.github.com/orgs/{org}/repos{?type,page,per_page,sort}',\n",
       " 'organization_teams_url': 'https://api.github.com/orgs/{org}/teams',\n",
       " 'public_gists_url': 'https://api.github.com/gists/public',\n",
       " 'rate_limit_url': 'https://api.github.com/rate_limit',\n",
       " 'repository_url': 'https://api.github.com/repos/{owner}/{repo}',\n",
       " 'repository_search_url': 'https://api.github.com/search/repositories?q={query}{&page,per_page,sort,order}',\n",
       " 'current_user_repositories_url': 'https://api.github.com/user/repos{?type,page,per_page,sort}',\n",
       " 'starred_url': 'https://api.github.com/user/starred{/owner}{/repo}',\n",
       " 'starred_gists_url': 'https://api.github.com/gists/starred',\n",
       " 'topic_search_url': 'https://api.github.com/search/topics?q={query}{&page,per_page}',\n",
       " 'user_url': 'https://api.github.com/users/{user}',\n",
       " 'user_organizations_url': 'https://api.github.com/user/orgs',\n",
       " 'user_repositories_url': 'https://api.github.com/users/{user}/repos{?type,page,per_page,sort}',\n",
       " 'user_search_url': 'https://api.github.com/search/users?q={query}{&page,per_page,sort,order}'}"
      ]
     },
     "execution_count": 18,
     "metadata": {},
     "output_type": "execute_result"
    }
   ],
   "source": [
    "response.json()"
   ]
  },
  {
   "cell_type": "code",
   "execution_count": 19,
   "id": "cd10cd05",
   "metadata": {},
   "outputs": [
    {
     "data": {
      "text/plain": [
       "{'current_user_url': 'https://api.github.com/user',\n",
       " 'current_user_authorizations_html_url': 'https://github.com/settings/connections/applications{/client_id}',\n",
       " 'authorizations_url': 'https://api.github.com/authorizations',\n",
       " 'code_search_url': 'https://api.github.com/search/code?q={query}{&page,per_page,sort,order}',\n",
       " 'commit_search_url': 'https://api.github.com/search/commits?q={query}{&page,per_page,sort,order}',\n",
       " 'emails_url': 'https://api.github.com/user/emails',\n",
       " 'emojis_url': 'https://api.github.com/emojis',\n",
       " 'events_url': 'https://api.github.com/events',\n",
       " 'feeds_url': 'https://api.github.com/feeds',\n",
       " 'followers_url': 'https://api.github.com/user/followers',\n",
       " 'following_url': 'https://api.github.com/user/following{/target}',\n",
       " 'gists_url': 'https://api.github.com/gists{/gist_id}',\n",
       " 'hub_url': 'https://api.github.com/hub',\n",
       " 'issue_search_url': 'https://api.github.com/search/issues?q={query}{&page,per_page,sort,order}',\n",
       " 'issues_url': 'https://api.github.com/issues',\n",
       " 'keys_url': 'https://api.github.com/user/keys',\n",
       " 'label_search_url': 'https://api.github.com/search/labels?q={query}&repository_id={repository_id}{&page,per_page}',\n",
       " 'notifications_url': 'https://api.github.com/notifications',\n",
       " 'organization_url': 'https://api.github.com/orgs/{org}',\n",
       " 'organization_repositories_url': 'https://api.github.com/orgs/{org}/repos{?type,page,per_page,sort}',\n",
       " 'organization_teams_url': 'https://api.github.com/orgs/{org}/teams',\n",
       " 'public_gists_url': 'https://api.github.com/gists/public',\n",
       " 'rate_limit_url': 'https://api.github.com/rate_limit',\n",
       " 'repository_url': 'https://api.github.com/repos/{owner}/{repo}',\n",
       " 'repository_search_url': 'https://api.github.com/search/repositories?q={query}{&page,per_page,sort,order}',\n",
       " 'current_user_repositories_url': 'https://api.github.com/user/repos{?type,page,per_page,sort}',\n",
       " 'starred_url': 'https://api.github.com/user/starred{/owner}{/repo}',\n",
       " 'starred_gists_url': 'https://api.github.com/gists/starred',\n",
       " 'topic_search_url': 'https://api.github.com/search/topics?q={query}{&page,per_page}',\n",
       " 'user_url': 'https://api.github.com/users/{user}',\n",
       " 'user_organizations_url': 'https://api.github.com/user/orgs',\n",
       " 'user_repositories_url': 'https://api.github.com/users/{user}/repos{?type,page,per_page,sort}',\n",
       " 'user_search_url': 'https://api.github.com/search/users?q={query}{&page,per_page,sort,order}'}"
      ]
     },
     "execution_count": 19,
     "metadata": {},
     "output_type": "execute_result"
    }
   ],
   "source": [
    "dict(response.json())"
   ]
  },
  {
   "cell_type": "markdown",
   "id": "bce4acb4",
   "metadata": {},
   "source": [
    "# Working with public API"
   ]
  },
  {
   "cell_type": "code",
   "execution_count": 20,
   "id": "49ec508a",
   "metadata": {},
   "outputs": [],
   "source": [
    "url = \"https://jsonplaceholder.typicode.com/posts\""
   ]
  },
  {
   "cell_type": "code",
   "execution_count": 24,
   "id": "9c8606f3",
   "metadata": {},
   "outputs": [
    {
     "name": "stdout",
     "output_type": "stream",
     "text": [
      "Status code : 200\n",
      "Successful get request!!!\n",
      "\n",
      "Post 1 :\n",
      "{'userId': 1, 'id': 1, 'title': 'sunt aut facere repellat provident occaecati excepturi optio reprehenderit', 'body': 'quia et suscipit\\nsuscipit recusandae consequuntur expedita et cum\\nreprehenderit molestiae ut ut quas totam\\nnostrum rerum est autem sunt rem eveniet architecto'}\n",
      "\n",
      "Post 2 :\n",
      "{'userId': 1, 'id': 2, 'title': 'qui est esse', 'body': 'est rerum tempore vitae\\nsequi sint nihil reprehenderit dolor beatae ea dolores neque\\nfugiat blanditiis voluptate porro vel nihil molestiae ut reiciendis\\nqui aperiam non debitis possimus qui neque nisi nulla'}\n",
      "\n",
      "Post 3 :\n",
      "{'userId': 1, 'id': 3, 'title': 'ea molestias quasi exercitationem repellat qui ipsa sit aut', 'body': 'et iusto sed quo iure\\nvoluptatem occaecati omnis eligendi aut ad\\nvoluptatem doloribus vel accusantium quis pariatur\\nmolestiae porro eius odio et labore et velit aut'}\n"
     ]
    }
   ],
   "source": [
    "try:\n",
    "    response = requests.get(url)\n",
    "    response.raise_for_status()\n",
    "except Exception as e:\n",
    "    print(f\"Error : {str(e)}\")\n",
    "else:\n",
    "    status_code = response.status_code\n",
    "    print(f\"Status code : {status_code}\")\n",
    "    if status_code == 200:\n",
    "       print(\"Successful get request!!!\")\n",
    "       posts = response.json()\n",
    "       for i in range(3):\n",
    "           print(f\"\\nPost {i + 1} :\")\n",
    "           print(posts[i])\n",
    "    else:\n",
    "       print(\"Unsuccessful request\")"
   ]
  },
  {
   "cell_type": "code",
   "execution_count": 25,
   "id": "376fdc5d",
   "metadata": {},
   "outputs": [],
   "source": [
    "new_post = {\n",
    "\t\"title\": \"Sample Post\",\n",
    "\t\"body\": \"This is a sample post\",\n",
    "\t\"userId\": 101\n",
    "}"
   ]
  },
  {
   "cell_type": "code",
   "execution_count": 26,
   "id": "b26057e5",
   "metadata": {},
   "outputs": [
    {
     "name": "stdout",
     "output_type": "stream",
     "text": [
      "Status Code: 201\n",
      "\n",
      "Successful POST request!\n",
      "\n",
      "Post:\n",
      "{'title': 'Sample Post', 'body': 'This is a sample post', 'userId': '101', 'id': 101}\n"
     ]
    }
   ],
   "source": [
    "try:\n",
    "    response = requests.post(url, data = new_post)\n",
    "    response.raise_for_status()\n",
    "except Exception as e:\n",
    "    print(f\"Error : {str(e)}\")\n",
    "else:\n",
    "    status_code = response.status_code\n",
    "    if status_code == 201:\n",
    "        print(f\"Status Code: {status_code}\")\n",
    "        print(\"\\nSuccessful POST request!\")\n",
    "        post = response.json()\n",
    "        print(\"\\nPost:\")\n",
    "        print(post)\n",
    "    else:\n",
    "        print(f\"status_code : {status_code}\")\n",
    "        print(\"Unsuccessful request\")"
   ]
  },
  {
   "cell_type": "code",
   "execution_count": null,
   "id": "50170ef7",
   "metadata": {},
   "outputs": [],
   "source": []
  },
  {
   "cell_type": "code",
   "execution_count": null,
   "id": "8b8ee3fb",
   "metadata": {},
   "outputs": [],
   "source": []
  }
 ],
 "metadata": {
  "kernelspec": {
   "display_name": "venv",
   "language": "python",
   "name": "python3"
  },
  "language_info": {
   "codemirror_mode": {
    "name": "ipython",
    "version": 3
   },
   "file_extension": ".py",
   "mimetype": "text/x-python",
   "name": "python",
   "nbconvert_exporter": "python",
   "pygments_lexer": "ipython3",
   "version": "3.11.7"
  }
 },
 "nbformat": 4,
 "nbformat_minor": 5
}
